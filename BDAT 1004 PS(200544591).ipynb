{
 "cells": [
  {
   "cell_type": "markdown",
   "metadata": {},
   "source": [
    "###\n",
    "\n",
    "\n",
    "# Problem Set 1 "
   ]
  },
  {
   "cell_type": "markdown",
   "metadata": {},
   "source": [
    "Question 1:\n",
    "\n",
    "What data type is each of the following (evaluate where necessary)?\n",
    "\n",
    "5\n",
    "\n",
    "5.0\n",
    "\n",
    "5 > 1\n",
    "\n",
    "'5'\n",
    "\n",
    "5 * 2\n",
    "\n",
    "'5' * 2\n",
    "\n",
    "'5' + '2'\n",
    "\n",
    "5 / 2\n",
    "\n",
    "5 % 2\n",
    "\n",
    "{5, 2, 1}\n",
    "\n",
    "5 == 3\n",
    "\n",
    "Pi (the number)\n",
    "\n",
    "\n"
   ]
  },
  {
   "cell_type": "code",
   "execution_count": 1,
   "metadata": {},
   "outputs": [
    {
     "name": "stdout",
     "output_type": "stream",
     "text": [
      "1. Data type: <class 'int'>\n",
      "2. Data type: <class 'float'>\n",
      "3. Data type: <class 'bool'>\n",
      "4. Data type: <class 'str'>\n",
      "5. Data type: <class 'int'>\n",
      "6. Data type: <class 'str'>\n",
      "7. Data type: <class 'str'>\n",
      "8. Data type: <class 'float'>\n",
      "9. Data type: <class 'int'>\n",
      "10. Data type: <class 'set'>\n",
      "11. Data type: <class 'bool'>\n",
      "12. Data type: <class 'float'>\n"
     ]
    }
   ],
   "source": [
    "# 1. \n",
    "result_1 = 5\n",
    "print(f\"1. Data type: {type(result_1)}\")\n",
    "\n",
    "# 2. \n",
    "result_2 = 5.0\n",
    "print(f\"2. Data type: {type(result_2)}\")\n",
    "\n",
    "# 3.\n",
    "result_3 = 5 > 1\n",
    "print(f\"3. Data type: {type(result_3)}\")\n",
    "\n",
    "# 4.\n",
    "result_4 = '5'\n",
    "print(f\"4. Data type: {type(result_4)}\")\n",
    "\n",
    "# 5.\n",
    "result_5 = 5 * 2\n",
    "print(f\"5. Data type: {type(result_5)}\")\n",
    "\n",
    "# 6.\n",
    "result_6 = '5' * 2\n",
    "print(f\"6. Data type: {type(result_6)}\")\n",
    "\n",
    "# 7.\n",
    "result_7 = '5' + '2'\n",
    "print(f\"7. Data type: {type(result_7)}\")\n",
    "\n",
    "# 8. \n",
    "result_8 = 5 / 2\n",
    "print(f\"8. Data type: {type(result_8)}\")\n",
    "\n",
    "# 9. \n",
    "result_9 = 5 % 2\n",
    "print(f\"9. Data type: {type(result_9)}\")\n",
    "\n",
    "# 10.\n",
    "result_10 = {5, 2, 1}\n",
    "print(f\"10. Data type: {type(result_10)}\")\n",
    "\n",
    "# 11.\n",
    "result_11 = 5 == 3\n",
    "print(f\"11. Data type: {type(result_11)}\")\n",
    "\n",
    "# 12. \n",
    "import math  \n",
    "result_12 = math.pi\n",
    "print(f\"12. Data type: {type(result_12)}\")\n"
   ]
  },
  {
   "cell_type": "markdown",
   "metadata": {},
   "source": [
    "### Question 2 #\n",
    "\n",
    "Write (and evaluate) Python expressions that answer these questions:\n",
    "\n",
    "a. How many letters are there in 'Supercalifragilisticexpialidocious'?\n",
    "\n",
    "b. Does 'Supercalifragilisticexpialidocious' contain 'ice' as a substring?\n",
    "\n",
    "c. Which of the following words is the longest: Supercalifragilisticexpialidocious, Honorificabilitudinitatibus, or Bababadalgharaghtakamminarronnkonn?\n",
    "\n",
    "d. Which composer comes first in the dictionary: 'Berlioz', 'Borodin', 'Brian', 'Bartok', 'Bellini', 'Buxtehude', 'Bernstein'? Which one comes last?"
   ]
  },
  {
   "cell_type": "code",
   "execution_count": 2,
   "metadata": {},
   "outputs": [
    {
     "name": "stdout",
     "output_type": "stream",
     "text": [
      "34\n"
     ]
    }
   ],
   "source": [
    "#2(a)\n",
    "word_a = 'Supercalifragilisticexpialidocious'\n",
    "num_letters_a = len(word_a)\n",
    "print(num_letters_a)\n"
   ]
  },
  {
   "cell_type": "code",
   "execution_count": 5,
   "metadata": {},
   "outputs": [
    {
     "name": "stdout",
     "output_type": "stream",
     "text": [
      "True\n"
     ]
    }
   ],
   "source": [
    "#2(b)\n",
    "word_b = 'Supercalifragilisticexpialidocious'\n",
    "contains_ice = 'ice' in word_b\n",
    "print(contains_ice)\n"
   ]
  },
  {
   "cell_type": "code",
   "execution_count": 7,
   "metadata": {},
   "outputs": [
    {
     "name": "stdout",
     "output_type": "stream",
     "text": [
      "Supercalifragilisticexpialidocious\n"
     ]
    }
   ],
   "source": [
    "#2(c)\n",
    "word_c_list = ['Supercalifragilisticexpialidocious', 'Honorificabilitudinitatibus', 'Bababadalgharaghtakamminarronnkonn']\n",
    "longest_word_c = max(word_c_list, key=len)\n",
    "print(longest_word_c)\n"
   ]
  },
  {
   "cell_type": "code",
   "execution_count": 8,
   "metadata": {},
   "outputs": [
    {
     "name": "stdout",
     "output_type": "stream",
     "text": [
      "First Composer : Bartok\n",
      "Last Composer: Buxtehude\n"
     ]
    }
   ],
   "source": [
    "#2(d)\n",
    "composers_d = ['Berlioz', 'Borodin', 'Brian', 'Bartok', 'Bellini', 'Buxtehude', 'Bernstein']\n",
    "first_composer_d = min(composers_d)\n",
    "last_composer_d = max(composers_d)\n",
    "\n",
    "print(f\"First Composer : {first_composer_d}\")\n",
    "print(f\"Last Composer: {last_composer_d}\")\n"
   ]
  },
  {
   "cell_type": "markdown",
   "metadata": {},
   "source": [
    "### Question 3 #\n",
    "\n",
    "Implement function triangleArea(a,b,c) that takes as input the lengths of the 3\n",
    "sides of a triangle and returns the area of the triangle. By Heron's formula, the area\n",
    "of a triangle with side lengths a, b, and c is\n",
    "s(s - a)(s -b)(s -c), where\n",
    "s = (a +b + c) /2.\n",
    ">>> triangleArea(2,2,2)\n",
    "1.7320508075688772"
   ]
  },
  {
   "cell_type": "code",
   "execution_count": 1,
   "metadata": {},
   "outputs": [
    {
     "data": {
      "text/plain": [
       "1.7320508075688772"
      ]
     },
     "execution_count": 1,
     "metadata": {},
     "output_type": "execute_result"
    }
   ],
   "source": [
    "from math import sqrt\n",
    "def triangleArea(a,b,c):\n",
    "    s = (a+b+c)/2\n",
    "    area = sqrt(s*(s-a)*(s-b)*(s-c))\n",
    "    return area\n",
    "triangleArea(2,2,2)"
   ]
  },
  {
   "cell_type": "markdown",
   "metadata": {},
   "source": [
    "### Question 4 \n",
    "\n",
    "Write a program in python to separate odd and even integers in separate arrays. Go\n",
    "to the editor\n",
    "\n",
    "Test Data :\n",
    "\n",
    "Input the number of elements to be stored in the array :5\n",
    "\n",
    "Input 5 elements in the array :\n",
    "\n",
    "element - 0 : 25\n",
    "\n",
    "element - 1 : 47\n",
    "\n",
    "element - 2 : 42\n",
    "\n",
    "element - 3 : 56\n",
    "\n",
    "element - 4 : 32\n",
    "\n",
    "Expected Output:\n",
    "\n",
    "The Even elements are:\n",
    "\n",
    "42 56 32\n",
    "\n",
    "The Odd elements are :\n",
    "\n",
    "25 47\n"
   ]
  },
  {
   "cell_type": "code",
   "execution_count": 9,
   "metadata": {},
   "outputs": [
    {
     "name": "stdout",
     "output_type": "stream",
     "text": [
      "Original Array: [25, 47, 42, 56, 32]\n",
      "Odd Numbers: [25, 47]\n",
      "Even Numbers: [42, 56, 32]\n"
     ]
    }
   ],
   "source": [
    "# Input the number of elements\n",
    "num_elements = int(input(\"Input the number of elements to be stored in the array: \"))\n",
    "\n",
    "# Input elements into the array\n",
    "array = []\n",
    "for i in range(num_elements):\n",
    "    element = int(input(f\"Enter element - {i} : \"))\n",
    "    array.append(element)\n",
    "\n",
    "# Separate odd and even integers into separate arrays\n",
    "odd_numbers = [num for num in array if num % 2 != 0]\n",
    "even_numbers = [num for num in array if num % 2 == 0]\n",
    "\n",
    "# Display the results\n",
    "print(\"Original Array:\", array)\n",
    "print(\"Odd Numbers:\", odd_numbers)\n",
    "print(\"Even Numbers:\", even_numbers)\n"
   ]
  },
  {
   "cell_type": "markdown",
   "metadata": {},
   "source": [
    "question(5)\n",
    "\n",
    "a. Write a function inside(x,y,x1,y1,x2,y2) that returns True or False depending on whether the point (x,y) lies in the rectangle with lower \n",
    "left corner (x1,y1) and upper right corner (x2,y2).\n",
    "\n",
    ">>> inside(1,1,0,0,2,3)\n",
    "True\n",
    "\n",
    ">>> inside(-1,-1,0,0,2,3)\n",
    "False\n",
    "\n",
    "b. Use function inside() from part a. to write an expression that tests whether the point (1,1) lies in both of the following rectangles: one with lower left corner (0.3, 0.5) and upper right corner (1.1, 0.7) and the other with lower left corner (0.5, 0.2) and upper right corner (1.1, 2)."
   ]
  },
  {
   "cell_type": "code",
   "execution_count": 10,
   "metadata": {},
   "outputs": [
    {
     "name": "stdout",
     "output_type": "stream",
     "text": [
      "True\n",
      "False\n"
     ]
    }
   ],
   "source": [
    "def inside(x,y,x1,y1,x2,y2):\n",
    "    if (x>=x1) and (x<=x2):\n",
    "        if (y>=y1) and (y<=y2):\n",
    "            return True\n",
    "    else:\n",
    "        return False\n",
    "print(inside(1, 1, 0, 0, 2, 3))  \n",
    "print(inside(-1, -1, 0, 0, 2, 3))  \n"
   ]
  },
  {
   "cell_type": "code",
   "execution_count": 11,
   "metadata": {},
   "outputs": [
    {
     "name": "stdout",
     "output_type": "stream",
     "text": [
      "(1, 1) is inside the first rectangle: None\n",
      "(1, 1) is inside the second rectangle: True\n"
     ]
    }
   ],
   "source": [
    "# Test if (1, 1) is inside both rectangles\n",
    "result_rect1 = inside(1, 1, 0.3, 0.5, 1.1, 0.7)\n",
    "result_rect2 = inside(1, 1, 0.5, 0.2, 1.1, 2)\n",
    "\n",
    "# Print the results\n",
    "print(f\"(1, 1) is inside the first rectangle: {result_rect1}\")\n",
    "print(f\"(1, 1) is inside the second rectangle: {result_rect2}\")\n"
   ]
  },
  {
   "cell_type": "markdown",
   "metadata": {},
   "source": [
    "Question(6)\n",
    "\n",
    "You can turn a word into pig-Latin using the following two rules (simplified):\n",
    "\n",
    "• If the word starts with a consonant, move that letter to the end and append 'ay'. For example, 'happy' becomes 'appyhay' and 'pencil' becomes 'encilpay'.\n",
    "\n",
    "• If the word starts with a vowel, simply append 'way' to the end of the word. For example, 'enter' becomes 'enterway' and 'other' becomes 'otherway' . For our purposes, there are 5 vowels: a, e, i, o, u (so we count y as a consonant).\n",
    "\n",
    "Write a function pig() that takes a word (i.e., a string) as input and returns its pig-Latin form. Your function should still work if the input word contains upper case characters. Your output should always be lower case however.\n",
    ">>> pig('happy')\n",
    "'appyhay'\n",
    ">>> pig('Enter')\n",
    "'enterway'"
   ]
  },
  {
   "cell_type": "code",
   "execution_count": 16,
   "metadata": {},
   "outputs": [
    {
     "name": "stdout",
     "output_type": "stream",
     "text": [
      "appyhay\n",
      "enterway\n"
     ]
    }
   ],
   "source": [
    "def pig(word):\n",
    "    # Convert the word to lowercase\n",
    "    word = word.lower()\n",
    "\n",
    "    # Check if the word starts with a vowel or consonant\n",
    "    if word[0] in ['a', 'e', 'i', 'o', 'u']:\n",
    "        # If it starts with a vowel, append 'way'\n",
    "        pig_latin = word + 'way'\n",
    "    else:\n",
    "        # If it starts with a consonant, move the first letter to the end and append 'ay'\n",
    "        pig_latin = word[1:] + word[0] + 'ay'\n",
    "\n",
    "    return pig_latin\n",
    "\n",
    "# Test cases\n",
    "print(pig('happy'))  \n",
    "print(pig('Enter'))  \n"
   ]
  },
  {
   "cell_type": "markdown",
   "metadata": {},
   "source": [
    "Question(7)\n",
    "\n",
    "File bloodtype1.txt records blood-types of patients (A, B, AB, O or OO) at a clinic. Write a function bldcount() that reads the file with name name and reports (i.e., prints) how many patients there are in each bloodtype.\n",
    ">>> bldcount('bloodtype.txt')\n",
    "\n",
    "There are 10 patients of blood type A.\n",
    "\n",
    "There is one patient of blood type B.\n",
    "\n",
    "There are 10 patients of blood type AB.\n",
    "\n",
    "There are 12 patients of blood type O.\n",
    "\n",
    "There are no patients of blood type OO."
   ]
  },
  {
   "cell_type": "code",
   "execution_count": 3,
   "metadata": {},
   "outputs": [
    {
     "name": "stdout",
     "output_type": "stream",
     "text": [
      "There are 15 patients of blood type A\n",
      "There are 1 patients of blood type B\n",
      "There are 13 patients of blood type AB\n",
      "There are 15 patients of blood type O\n",
      "There are 0 patients of blood type OO\n"
     ]
    }
   ],
   "source": [
    "def bloodSamples(letter):  \n",
    "    infile = open('bloodtype1 (1).txt')   \n",
    "    data = infile.read()\n",
    "\n",
    "    count = 0\n",
    "\n",
    "    for a in data.split(' '): \n",
    "        if letter == a:\n",
    "            count += 1\n",
    "    infile.close()\n",
    "    return int(count)\n",
    "\n",
    "def bloodTest():\n",
    "    \n",
    "    print(f\"There are {bloodSamples('A')} patients of blood type A\")\n",
    "    print(f\"There are {bloodSamples('B')} patients of blood type B\")\n",
    "    print(f\"There are {bloodSamples('AB')} patients of blood type AB\")\n",
    "    print(f\"There are {bloodSamples('O')} patients of blood type O\")\n",
    "    print(f\"There are {bloodSamples('OO')} patients of blood type OO\")\n",
    "\n",
    "\n",
    "bloodTest()"
   ]
  },
  {
   "cell_type": "markdown",
   "metadata": {},
   "source": [
    "Question(8)\n",
    "\n",
    "Write a function curconv() that takes as input:\n",
    "\n",
    "1. a currency represented using a string (e.g., 'JPY' for the Japanese Yen or 'EUR' for the Euro)\n",
    "\n",
    "2. an amount\n",
    "\n",
    "and then converts and returns the amount in US dollars.\n",
    "\n",
    ">>> curconv('EUR', 100)\n",
    "\n",
    "122.96544\n",
    "\n",
    ">>> curconv('JPY', 100)\n",
    "\n",
    "1.241401\n",
    "\n",
    "The currency rates you will need are stored in file currencies.txt:\n",
    "\n",
    "AUD 1.0345157 Australian Dollar\n",
    "\n",
    "CHF 1.0237414 Swiss Franc\n",
    "\n",
    "CNY 0.1550176 Chinese Yuan\n",
    "\n",
    "DKK 0.1651442 Danish Krone\n",
    "\n",
    "EUR 1.2296544 Euro\n",
    "\n",
    "GBP 1.5550989 British Pound\n",
    "\n",
    "HKD 0.1270207 Hong Kong Dollar\n",
    "\n",
    "INR 0.0177643 Indian Rupee\n",
    "\n",
    "JPY 0.01241401 Japanese Yen\n",
    "\n",
    "MXN 0.0751848 Mexican Peso\n",
    "\n",
    "MYR 0.3145411 Malaysian Ringgit\n",
    "\n",
    "NOK 0.1677063 Norwegian Krone\n",
    "\n",
    "NZD 0.8003591 New Zealand Dollar\n",
    "\n",
    "PHP 0.0233234 Philippine Peso\n",
    "\n",
    "SEK 0.148269 Swedish Krona\n",
    "\n",
    "SGD 0.788871 Singapore Dollar\n",
    "\n",
    "THB 0.0313789 Thai Baht"
   ]
  },
  {
   "cell_type": "code",
   "execution_count": 4,
   "metadata": {},
   "outputs": [
    {
     "name": "stdout",
     "output_type": "stream",
     "text": [
      "122.96544\n",
      "1.241401\n"
     ]
    }
   ],
   "source": [
    "\n",
    "import re  # importing REGEX library for refgularisation\n",
    "\n",
    "def curconv(cur, amount):\n",
    "    currency_dict = {}\n",
    "    \n",
    "    # Open the 'currencies.txt' file \n",
    "    with open(\"currencies (1).txt\", \"r\") as infile:\n",
    "        for line in infile:\n",
    "            parts = re.split(r'\\s+', line.strip())\n",
    "            if len(parts) >= 2:\n",
    "                currency_code = parts[0]\n",
    "                exchange_rate = float(parts[1])\n",
    "                currency_dict[currency_code] = exchange_rate\n",
    "    \n",
    "    if cur in currency_dict:\n",
    "        return amount * currency_dict[cur]\n",
    "    else:\n",
    "        return \"Currency code not found\"\n",
    "\n",
    "# printing results\n",
    "usd_value1 = curconv('EUR', 100)\n",
    "print(usd_value1)  # Output currency for EUR\n",
    "\n",
    "usd_value2 = curconv('JPY', 100)\n",
    "print(usd_value2)  # Output currency for JPY"
   ]
  },
  {
   "cell_type": "markdown",
   "metadata": {},
   "source": [
    "### Question 9:\n",
    "\n",
    "Each of the following will cause an exception (an error). Identify what type of exception each will cause.\n",
    "\n",
    "Trying to add incompatible variables, as in\n",
    "adding 6 + ‘a’\n",
    "\n",
    "Referring to the 12\n",
    "th item of a list that has only 10\n",
    "items\n",
    "\n",
    "Using a value that is out of range for a functi\n",
    "on’s\n",
    "input, such as calling math.sqrt( 1.0)\n",
    "\n",
    "Using an undeclared variable, such as\n",
    "p rint(x)\n",
    "when x has not been defined\n",
    "\n",
    "Trying to open a file that does not exist, such as\n",
    "mistyping the file name or looking in the wrong\n",
    "directory."
   ]
  },
  {
   "cell_type": "code",
   "execution_count": 5,
   "metadata": {},
   "outputs": [
    {
     "name": "stdout",
     "output_type": "stream",
     "text": [
      "Exception encountered: unsupported operand type(s) for +: 'int' and 'str'\n",
      "Exception encountered: list index out of range\n",
      "Exception encountered: math domain error\n",
      "Exception encountered: name 'x' is not defined\n",
      "Exception encountered: [Errno 2] No such file or directory: 'non_existent_file.txt'\n"
     ]
    }
   ],
   "source": [
    "import math\n",
    "\n",
    "# Type 1: adding incompatible variables\n",
    "try:\n",
    "    result = 6 + 'a'\n",
    "except TypeError as e:\n",
    "    print(f\"Exception encountered: {e}\")\n",
    "    \n",
    "# Type 2: Referring to the 12th item of a list that has only 10 items\n",
    "try:\n",
    "    my_list = [1, 2, 3, 4, 5, 6, 7, 8, 9, 10]\n",
    "    item = my_list[11]\n",
    "except IndexError as e:\n",
    "    print(f\"Exception encountered: {e}\")\n",
    "\n",
    "# Type 3: Using a value is out of range for a function's input\n",
    "try:\n",
    "    square_root = math.sqrt(-1.0)\n",
    "except ValueError as e:\n",
    "    print(f\"Exception encountered: {e}\")\n",
    "\n",
    "# Type 4:  undeclared variable\n",
    "try:\n",
    "    print(x)\n",
    "except NameError as e:\n",
    "    print(f\"Exception encountered: {e}\")\n",
    "\n",
    "# Type 5: opening a file that does not exist\n",
    "try:\n",
    "    with open('non_existent_file.txt', 'r') as file:\n",
    "        content = file.read()\n",
    "except FileNotFoundError as e:\n",
    "    print(f\"Exception encountered: {e}\")"
   ]
  },
  {
   "cell_type": "markdown",
   "metadata": {},
   "source": [
    "Question 10:\n",
    "\n",
    "Encryption is the process of hiding the meaning of a text by substituting letters in the message with other letters, according to some system. If the process is successful, no one but the intended recipient can understand the encrypted message. Cryptanalysis refers to attempts to undo the encryption, even if some details of the encryption are unknown (for example, if an encrypted message has been intercepted). The first step of cryptanalysis is often to build up a table of letter frequencies in the encrypted text. Assume that the string letters is already defined as 'abcdefghijklmnopqrstuvwxyz'. Write a function called frequencies() that takes a string as its only parameter, and returns a list of integers, showing the number of times each character appears in the text. Your function may ignore any characters that are not in letters.\n",
    "\n",
    ">>> frequencies('The quick red fox got bored and went home.')\n",
    "[1, 1, 1, 3, 5, 1, 1, 2, 1, 0, 1, 0, 1, 2, 4, 0, 1, 2, 0, 2, 1, 0, 1, 1, 0, 0]\n",
    ">>> frequencies('apple')"
   ]
  },
  {
   "cell_type": "code",
   "execution_count": 6,
   "metadata": {},
   "outputs": [
    {
     "name": "stdout",
     "output_type": "stream",
     "text": [
      "[1, 1, 1, 3, 5, 1, 1, 2, 1, 0, 1, 0, 1, 2, 4, 0, 1, 2, 0, 3, 1, 0, 1, 1, 0, 0]\n"
     ]
    }
   ],
   "source": [
    "def frequencies(input_string):\n",
    "    letters = 'abcdefghijklmnopqrstuvwxyz'\n",
    "    frequency_list = [0] * len(letters)\n",
    "    \n",
    "    # Convert the input string to lowercase \n",
    "    input_string = input_string.lower()\n",
    "    \n",
    "    for char in input_string:\n",
    "        # if the character is in the letters string\n",
    "        if char in letters:\n",
    "            # Increment frequency in the list\n",
    "            index = letters.index(char)\n",
    "            frequency_list[index] += 1\n",
    "    \n",
    "    return frequency_list\n",
    "\n",
    "\n",
    "print(frequencies('The quick red fox got bored and went home.'))"
   ]
  },
  {
   "cell_type": "code",
   "execution_count": 7,
   "metadata": {},
   "outputs": [
    {
     "name": "stdout",
     "output_type": "stream",
     "text": [
      "[1, 0, 0, 0, 1, 0, 0, 0, 0, 0, 0, 1, 0, 0, 0, 2, 0, 0, 0, 0, 0, 0, 0, 0, 0, 0]\n"
     ]
    }
   ],
   "source": [
    "print(frequencies('apple'))"
   ]
  }
 ],
 "metadata": {
  "kernelspec": {
   "display_name": "Python 3",
   "language": "python",
   "name": "python3"
  },
  "language_info": {
   "codemirror_mode": {
    "name": "ipython",
    "version": 3
   },
   "file_extension": ".py",
   "mimetype": "text/x-python",
   "name": "python",
   "nbconvert_exporter": "python",
   "pygments_lexer": "ipython3",
   "version": "3.11.1"
  }
 },
 "nbformat": 4,
 "nbformat_minor": 2
}
